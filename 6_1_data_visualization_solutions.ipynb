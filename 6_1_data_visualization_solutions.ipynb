{
  "nbformat": 4,
  "nbformat_minor": 0,
  "metadata": {
    "colab": {
      "name": "6.1_data-visualization_solutions.ipynb",
      "version": "0.3.2",
      "provenance": [],
      "collapsed_sections": [],
      "include_colab_link": true
    },
    "kernelspec": {
      "name": "python3",
      "display_name": "Python 3"
    }
  },
  "cells": [
    {
      "cell_type": "markdown",
      "metadata": {
        "id": "view-in-github",
        "colab_type": "text"
      },
      "source": [
        "<a href=\"https://colab.research.google.com/github/nickolastan/matlibtest/blob/master/6_1_data_visualization_solutions.ipynb\" target=\"_parent\"><img src=\"https://colab.research.google.com/assets/colab-badge.svg\" alt=\"Open In Colab\"/></a>"
      ]
    },
    {
      "metadata": {
        "id": "MHc79IwjXbQt",
        "colab_type": "text"
      },
      "cell_type": "markdown",
      "source": [
        "## Import `pyplot` from `matplotlib` as `plt`."
      ]
    },
    {
      "metadata": {
        "id": "QymfHezMXbRR",
        "colab_type": "code",
        "colab": {}
      },
      "cell_type": "code",
      "source": [
        "import matplotlib.pyplot as plt"
      ],
      "execution_count": 0,
      "outputs": []
    },
    {
      "metadata": {
        "id": "mxa4WDWgXbSj",
        "colab_type": "text"
      },
      "cell_type": "markdown",
      "source": [
        "## Add `matplotlib` magic for inline plots."
      ]
    },
    {
      "metadata": {
        "id": "_IQhXRHVXbT3",
        "colab_type": "code",
        "colab": {}
      },
      "cell_type": "code",
      "source": [
        "%matplotlib inline"
      ],
      "execution_count": 0,
      "outputs": []
    },
    {
      "metadata": {
        "id": "dLW0c8PEXbUt",
        "colab_type": "text"
      },
      "cell_type": "markdown",
      "source": [
        "## Create an empty plot using `.plot()` method from the `matplotlib.pyplot module`."
      ]
    },
    {
      "metadata": {
        "id": "PIaQgXYiXbU1",
        "colab_type": "code",
        "outputId": "e762add6-dda7-416d-e256-f28b3bad1115",
        "colab": {
          "base_uri": "https://localhost:8080/",
          "height": 282
        }
      },
      "cell_type": "code",
      "source": [
        "plt.plot()"
      ],
      "execution_count": 0,
      "outputs": [
        {
          "output_type": "execute_result",
          "data": {
            "text/plain": [
              "[]"
            ]
          },
          "metadata": {
            "tags": []
          },
          "execution_count": 3
        },
        {
          "output_type": "display_data",
          "data": {
            "image/png": "[encoded data removed]",
            "text/plain": [
              "<matplotlib.figure.Figure at 0x7f7ce5789320>"
            ]
          },
          "metadata": {
            "tags": []
          }
        }
      ]
    },
    {
      "metadata": {
        "id": "Jlpjcpn8XbVt",
        "colab_type": "text"
      },
      "cell_type": "markdown",
      "source": [
        "## Create a simple line with the points [1,1] and [2,2] using `plt.plot()`."
      ]
    },
    {
      "metadata": {
        "id": "V-WIVDXzXbWE",
        "colab_type": "code",
        "outputId": "7aae55f1-5bdc-4834-818c-6d7f42ae9f2e",
        "colab": {
          "base_uri": "https://localhost:8080/",
          "height": 282
        }
      },
      "cell_type": "code",
      "source": [
        "plt.plot([1,2],[1,2])"
      ],
      "execution_count": 0,
      "outputs": [
        {
          "output_type": "execute_result",
          "data": {
            "text/plain": [
              "[<matplotlib.lines.Line2D at 0x7f7ce2e4c748>]"
            ]
          },
          "metadata": {
            "tags": []
          },
          "execution_count": 4
        },
        {
          "output_type": "display_data",
          "data": {
            "image/png": "[encoded data removed]",
            "text/plain": [
              "<matplotlib.figure.Figure at 0x7f7ce5722470>"
            ]
          },
          "metadata": {
            "tags": []
          }
        }
      ]
    },
    {
      "metadata": {
        "id": "2EI8p8vAXbW9",
        "colab_type": "text"
      },
      "cell_type": "markdown",
      "source": [
        "## Now make it a scatterplot with the same points, [1,1] and [2,2], but use `plt.scatter()` instead."
      ]
    },
    {
      "metadata": {
        "id": "VLN7Myz9XbXQ",
        "colab_type": "code",
        "outputId": "c71c98ce-8ae6-43bb-c633-8a543c69d587",
        "colab": {
          "base_uri": "https://localhost:8080/",
          "height": 282
        }
      },
      "cell_type": "code",
      "source": [
        "plt.scatter([1,2],[1,2])"
      ],
      "execution_count": 0,
      "outputs": [
        {
          "output_type": "execute_result",
          "data": {
            "text/plain": [
              "<matplotlib.collections.PathCollection at 0x7f7ce2db78d0>"
            ]
          },
          "metadata": {
            "tags": []
          },
          "execution_count": 5
        },
        {
          "output_type": "display_data",
          "data": {
            "image/png": "[encoded data removed]",
            "text/plain": [
              "<matplotlib.figure.Figure at 0x7f7ce56a7a90>"
            ]
          },
          "metadata": {
            "tags": []
          }
        }
      ]
    },
    {
      "metadata": {
        "collapsed": true,
        "id": "8slA3GHDXbXf",
        "colab_type": "text"
      },
      "cell_type": "markdown",
      "source": [
        "## Add a `ylabel` to it called `\"some numbers\"`."
      ]
    },
    {
      "metadata": {
        "id": "cKN4atByXbXk",
        "colab_type": "code",
        "outputId": "c9e74a20-2e25-4b6a-eb9e-c34308796afa",
        "colab": {
          "base_uri": "https://localhost:8080/",
          "height": 282
        }
      },
      "cell_type": "code",
      "source": [
        "plt.scatter([1,2],[1,2])\n",
        "plt.ylabel(\"some numbers\")"
      ],
      "execution_count": 0,
      "outputs": [
        {
          "output_type": "execute_result",
          "data": {
            "text/plain": [
              "Text(0,0.5,'some numbers')"
            ]
          },
          "metadata": {
            "tags": []
          },
          "execution_count": 6
        },
        {
          "output_type": "display_data",
          "data": {
            "image/png": "[encoded data removed]",
            "text/plain": [
              "<matplotlib.figure.Figure at 0x7f7ce2e0e080>"
            ]
          },
          "metadata": {
            "tags": []
          }
        }
      ]
    },
    {
      "metadata": {
        "id": "kk4LUPyYXbXx",
        "colab_type": "text"
      },
      "cell_type": "markdown",
      "source": [
        "## Import `seaborn` as `sns`\n",
        "If this fails, open up a terminal, type `conda install seaborn`, and restart the Jupyter Notebook server."
      ]
    },
    {
      "metadata": {
        "id": "ou2HHI9UXbj2",
        "colab_type": "code",
        "colab": {}
      },
      "cell_type": "code",
      "source": [
        "import seaborn as sns"
      ],
      "execution_count": 0,
      "outputs": []
    },
    {
      "metadata": {
        "id": "cE1atBvgXbkV",
        "colab_type": "text"
      },
      "cell_type": "markdown",
      "source": [
        "## Set `seaborn` to \"on\" to style your plots"
      ]
    },
    {
      "metadata": {
        "id": "b7m5qAGfXbkk",
        "colab_type": "text"
      },
      "cell_type": "markdown",
      "source": [
        "Use the command `sns.set()`."
      ]
    },
    {
      "metadata": {
        "id": "nRus_Ti9Xbk5",
        "colab_type": "code",
        "colab": {}
      },
      "cell_type": "code",
      "source": [
        "sns.set()"
      ],
      "execution_count": 0,
      "outputs": []
    },
    {
      "metadata": {
        "id": "J4tbAispXblY",
        "colab_type": "text"
      },
      "cell_type": "markdown",
      "source": [
        "## Create an empty plot using `plt.plot()`."
      ]
    },
    {
      "metadata": {
        "scrolled": true,
        "id": "Yq3i-lIPXblf",
        "colab_type": "code",
        "outputId": "62e3af98-741d-4576-d66a-9705beec527f",
        "colab": {
          "base_uri": "https://localhost:8080/",
          "height": 363
        }
      },
      "cell_type": "code",
      "source": [
        "plt.plot()"
      ],
      "execution_count": 0,
      "outputs": [
        {
          "output_type": "execute_result",
          "data": {
            "text/plain": [
              "[]"
            ]
          },
          "metadata": {
            "tags": []
          },
          "execution_count": 9
        },
        {
          "output_type": "display_data",
          "data": {
            "image/png": "[encoded data removed]",
            "text/plain": [
              "<matplotlib.figure.Figure at 0x7f7634669a58>"
            ]
          },
          "metadata": {
            "tags": []
          }
        }
      ]
    },
    {
      "metadata": {
        "id": "pllFS-vHXbl6",
        "colab_type": "text"
      },
      "cell_type": "markdown",
      "source": [
        "## Create a simple line with the points [1,1] and [2,2] using `plt.plot()`."
      ]
    },
    {
      "metadata": {
        "id": "VT77-XjFXbl-",
        "colab_type": "code",
        "outputId": "6c6cb2f1-4f48-4a10-a158-bfef6086e699",
        "colab": {
          "base_uri": "https://localhost:8080/",
          "height": 363
        }
      },
      "cell_type": "code",
      "source": [
        "plt.plot([1,2],[1,2])"
      ],
      "execution_count": 0,
      "outputs": [
        {
          "output_type": "execute_result",
          "data": {
            "text/plain": [
              "[<matplotlib.lines.Line2D at 0x7f7634611b00>]"
            ]
          },
          "metadata": {
            "tags": []
          },
          "execution_count": 10
        },
        {
          "output_type": "display_data",
          "data": {
            "image/png": "[encoded data removed]",
            "text/plain": [
              "<matplotlib.figure.Figure at 0x7f7634655438>"
            ]
          },
          "metadata": {
            "tags": []
          }
        }
      ]
    },
    {
      "metadata": {
        "id": "yK3sTDnzXbma",
        "colab_type": "text"
      },
      "cell_type": "markdown",
      "source": [
        "## Now make it a scatter plot with the same points, [1,1] and [2,2], but use `plt.scatter()` instead.\n",
        "Add a `ylabel` to it called `\"some numbers\"`."
      ]
    },
    {
      "metadata": {
        "id": "aqAHgztaXbmc",
        "colab_type": "code",
        "outputId": "1fbd4e9f-78b8-45c2-fe97-f202f6ba69ed",
        "colab": {
          "base_uri": "https://localhost:8080/",
          "height": 363
        }
      },
      "cell_type": "code",
      "source": [
        "plt.scatter([1,2],[1,2])\n",
        "plt.ylabel(\"some numbers\")"
      ],
      "execution_count": 0,
      "outputs": [
        {
          "output_type": "execute_result",
          "data": {
            "text/plain": [
              "Text(0,0.5,'some numbers')"
            ]
          },
          "metadata": {
            "tags": []
          },
          "execution_count": 11
        },
        {
          "output_type": "display_data",
          "data": {
            "image/png": "[encoded data removed]",
            "text/plain": [
              "<matplotlib.figure.Figure at 0x7f76345ebac8>"
            ]
          },
          "metadata": {
            "tags": []
          }
        }
      ]
    },
    {
      "metadata": {
        "id": "eYXjVOxNXbmq",
        "colab_type": "code",
        "colab": {}
      },
      "cell_type": "code",
      "source": [
        ""
      ],
      "execution_count": 0,
      "outputs": []
    }
  ]
}